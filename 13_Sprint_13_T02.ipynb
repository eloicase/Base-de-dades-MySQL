{
 "cells": [
  {
   "cell_type": "markdown",
   "id": "44abd357",
   "metadata": {},
   "source": [
    "## S13 T02 Base de dades MySQL\n",
    "### Crear base de dades amb MySQL.\n",
    "#### Eloi Canals"
   ]
  },
  {
   "cell_type": "markdown",
   "id": "84d0d873",
   "metadata": {},
   "source": [
    "Nivell 1 - Exercici 1\n",
    "Crea una base de dades relacionals senzilla utilitzant MySQL(https://www.mysql.com/) i connecta-la a Python"
   ]
  },
  {
   "cell_type": "code",
   "execution_count": 52,
   "id": "6df15fe5",
   "metadata": {},
   "outputs": [],
   "source": [
    "import pandas as pd\n",
    "import matplotlib.pyplot as plt\n",
    "import seaborn as sns\n",
    "\n",
    "import mysql.connector\n",
    "from mysql.connector import Error\n",
    "\n",
    "from random import *"
   ]
  },
  {
   "cell_type": "code",
   "execution_count": 53,
   "id": "fe98c072",
   "metadata": {},
   "outputs": [
    {
     "name": "stdout",
     "output_type": "stream",
     "text": [
      "<mysql.connector.connection.MySQLConnection object at 0x124a10d90>\n"
     ]
    }
   ],
   "source": [
    "# Obrim conexió a la BBDD en local\n",
    "db = mysql.connector.connect(\n",
    "     host=\"localhost\",\n",
    "     user=\"eloi\",\n",
    "     password=\"eloi\",\n",
    "    )\n",
    "\n",
    "print(db)"
   ]
  },
  {
   "cell_type": "code",
   "execution_count": 54,
   "id": "1bd06765",
   "metadata": {},
   "outputs": [
    {
     "name": "stdout",
     "output_type": "stream",
     "text": [
      "('information_schema',)\n",
      "('mydb',)\n",
      "('myDB2',)\n",
      "('mysql',)\n",
      "('performance_schema',)\n",
      "('sys',)\n"
     ]
    }
   ],
   "source": [
    "# Eliminem la BBDD creada desde el Workbench per crearla de nou\n",
    "myDDBB = db.cursor()\n",
    "myDDBB.execute(\"DROP DATABASE IF EXISTS myDB2\")\n",
    "myDDBB.execute(\"CREATE DATABASE myDB2\")\n",
    "myDDBB.execute(\"SHOW DATABASES\")\n",
    "for x in myDDBB:\n",
    "    print(x)"
   ]
  },
  {
   "cell_type": "code",
   "execution_count": 55,
   "id": "045a1f15",
   "metadata": {},
   "outputs": [],
   "source": [
    "myDDBB = db.cursor()\n",
    "#\n",
    "myDDBB.execute(\"USE myDB2\")"
   ]
  },
  {
   "cell_type": "code",
   "execution_count": 56,
   "id": "515f7a41",
   "metadata": {},
   "outputs": [],
   "source": [
    "# Creació de schema i taules\n",
    "myDDBB.execute(\"CREATE SCHEMA IF NOT EXISTS `mydb2` DEFAULT CHARACTER SET utf8\")"
   ]
  },
  {
   "cell_type": "code",
   "execution_count": 57,
   "id": "96c23f6c",
   "metadata": {},
   "outputs": [],
   "source": [
    "myDDBB.execute(\"\"\"CREATE TABLE IF NOT EXISTS `mydb2`.`Client` (\n",
    "  `client_pk` INT NOT NULL AUTO_INCREMENT,\n",
    "  `Nom` VARCHAR(45) NULL,\n",
    "  `Cognoms` VARCHAR(45) NULL,\n",
    "  `DNI` VARCHAR(45) NULL,\n",
    "  `Mitja_pagament` VARCHAR(45) NULL,\n",
    "  PRIMARY KEY (`client_pk`),\n",
    "  UNIQUE INDEX `client_pk_UNIQUE` (`client_pk` ASC) VISIBLE)\"\"\")"
   ]
  },
  {
   "cell_type": "code",
   "execution_count": 58,
   "id": "0fe3a74a",
   "metadata": {},
   "outputs": [],
   "source": [
    "myDDBB.execute(\"\"\"CREATE TABLE IF NOT EXISTS `mydb2`.`Establiment` (\n",
    "  `establiment_pk` INT NOT NULL AUTO_INCREMENT,\n",
    "  `nom` VARCHAR(45) NOT NULL,\n",
    "  `localitzacio` VARCHAR(45) NULL,\n",
    "  `superficie` VARCHAR(45) NULL,\n",
    "  PRIMARY KEY (`establiment_pk`),\n",
    "  INDEX `establiment_pk_UNIQUE` (`establiment_pk` ASC) VISIBLE)\n",
    "ENGINE = InnoDB;\"\"\")"
   ]
  },
  {
   "cell_type": "code",
   "execution_count": 59,
   "id": "2a22919c",
   "metadata": {},
   "outputs": [],
   "source": [
    "myDDBB.execute(\"\"\"CREATE TABLE IF NOT EXISTS `mydb2`.`Treballador` (\n",
    "  `treballador_pk` INT NOT NULL AUTO_INCREMENT,\n",
    "  `Nom` VARCHAR(45) NULL,\n",
    "  `Cognoms` VARCHAR(45) NULL,\n",
    "  `establiment_fk` INT NULL,\n",
    "  PRIMARY KEY (`treballador_pk`),\n",
    "  UNIQUE INDEX `treballador_pk_UNIQUE` (`treballador_pk` ASC) VISIBLE,\n",
    "  INDEX `establiment_fk_2_idx` (`establiment_fk` ASC) VISIBLE,\n",
    "  CONSTRAINT `establiment_fk`\n",
    "    FOREIGN KEY (`establiment_fk`)\n",
    "    REFERENCES `mydb2`.`Establiment` (`establiment_pk`)\n",
    "    ON DELETE NO ACTION\n",
    "    ON UPDATE NO ACTION)\"\"\")"
   ]
  },
  {
   "cell_type": "code",
   "execution_count": 60,
   "id": "597de113",
   "metadata": {},
   "outputs": [],
   "source": [
    "myDDBB.execute(\"\"\"CREATE TABLE IF NOT EXISTS `mydb2`.`Producte` (\n",
    "  `product_pk` INT NOT NULL AUTO_INCREMENT,\n",
    "  `tipus_fk` INT NULL,\n",
    "  `descripcio` VARCHAR(45) NULL,\n",
    "  `Preu` VARCHAR(45) NULL,\n",
    "  PRIMARY KEY (`product_pk`),\n",
    "  UNIQUE INDEX `product_pk_UNIQUE` (`product_pk` ASC) VISIBLE)\"\"\")"
   ]
  },
  {
   "cell_type": "code",
   "execution_count": 61,
   "id": "adc85749",
   "metadata": {},
   "outputs": [],
   "source": [
    "myDDBB.execute(\"\"\"CREATE TABLE IF NOT EXISTS `mydb2`.`Tipus_Producte` (\n",
    "  `tipus_pk` INT NOT NULL AUTO_INCREMENT,\n",
    "  `desc_tipus` VARCHAR(45) NULL,\n",
    "  PRIMARY KEY (`tipus_pk`),\n",
    "  UNIQUE INDEX `tipus_pk_UNIQUE` (`tipus_pk` ASC) VISIBLE,\n",
    "  CONSTRAINT `tipus_fk`\n",
    "    FOREIGN KEY (`tipus_pk`)\n",
    "    REFERENCES `mydb2`.`Producte` (`product_pk`)\n",
    "    ON DELETE NO ACTION\n",
    "    ON UPDATE NO ACTION)\"\"\")"
   ]
  },
  {
   "cell_type": "code",
   "execution_count": 62,
   "id": "b3173aa5",
   "metadata": {},
   "outputs": [],
   "source": [
    "myDDBB.execute(\"\"\"CREATE TABLE IF NOT EXISTS `mydb2`.`Transaccio` (\n",
    "  `client_fk` INT NOT NULL,\n",
    "  `establiment_fk` INT NOT NULL,\n",
    "  `treballador_fk` INT NOT NULL,\n",
    "  `trans_pk` INT NOT NULL AUTO_INCREMENT,\n",
    "  `total_trans` INT NULL,\n",
    "  UNIQUE INDEX `Trans_pk_UNIQUE` (`client_fk` ASC, `establiment_fk` ASC, `treballador_fk` ASC) VISIBLE,\n",
    "  INDEX `client_fk_idx` (`client_fk` ASC) VISIBLE,\n",
    "  INDEX `establiment_fk_idx` (`establiment_fk` ASC) VISIBLE,\n",
    "  INDEX `treballador_fk_idx` (`treballador_fk` ASC) VISIBLE,\n",
    "  PRIMARY KEY (`trans_pk`),\n",
    "  CONSTRAINT `client_fk`\n",
    "    FOREIGN KEY (`client_fk`)\n",
    "    REFERENCES `mydb2`.`Client` (`client_pk`)\n",
    "    ON DELETE NO ACTION\n",
    "    ON UPDATE NO ACTION,\n",
    "  CONSTRAINT `establiment_fk_2`\n",
    "    FOREIGN KEY (`establiment_fk`)\n",
    "    REFERENCES `mydb2`.`Establiment` (`establiment_pk`)\n",
    "    ON DELETE NO ACTION\n",
    "    ON UPDATE NO ACTION,\n",
    "  CONSTRAINT `treballador_fk`\n",
    "    FOREIGN KEY (`treballador_fk`)\n",
    "    REFERENCES `mydb2`.`Treballador` (`treballador_pk`)\n",
    "    ON DELETE NO ACTION\n",
    "    ON UPDATE NO ACTION)\"\"\")"
   ]
  },
  {
   "cell_type": "code",
   "execution_count": 63,
   "id": "c30d26ea",
   "metadata": {},
   "outputs": [],
   "source": [
    "myDDBB.execute(\"\"\"CREATE TABLE IF NOT EXISTS `mydb2`.`Transaccio_Detail` (\n",
    "  `transdet_pk` INT NOT NULL AUTO_INCREMENT,\n",
    "  `trans_fk` INT NOT NULL,\n",
    "  `product_fk` INT NOT NULL,\n",
    "  `Qty` INT NULL,\n",
    "  `total_detail` VARCHAR(45) NULL,\n",
    "  PRIMARY KEY (`transdet_pk`, `trans_fk`, `product_fk`),\n",
    "  UNIQUE INDEX `transdet_pk_UNIQUE` (`transdet_pk` ASC) VISIBLE,\n",
    "  INDEX `product_fk_idx` (`product_fk` ASC) VISIBLE,\n",
    "  INDEX `trans_fk_idx` (`trans_fk` ASC) VISIBLE,\n",
    "  CONSTRAINT `product_fk`\n",
    "    FOREIGN KEY (`product_fk`)\n",
    "    REFERENCES `mydb2`.`Producte` (`product_pk`)\n",
    "    ON DELETE NO ACTION\n",
    "    ON UPDATE NO ACTION,\n",
    "  CONSTRAINT `trans_fk`\n",
    "    FOREIGN KEY (`trans_fk`)\n",
    "    REFERENCES `mydb2`.`Transaccio` (`trans_pk`)\n",
    "    ON DELETE NO ACTION\n",
    "    ON UPDATE NO ACTION)\"\"\")"
   ]
  },
  {
   "cell_type": "code",
   "execution_count": 64,
   "id": "4753c7f7",
   "metadata": {},
   "outputs": [
    {
     "name": "stdout",
     "output_type": "stream",
     "text": [
      "('Client',)\n",
      "('Establiment',)\n",
      "('Producte',)\n",
      "('Tipus_Producte',)\n",
      "('Transaccio',)\n",
      "('Transaccio_Detail',)\n",
      "('Treballador',)\n"
     ]
    }
   ],
   "source": [
    "myDDBB.execute(\"SHOW TABLES\")\n",
    "for i in myDDBB:\n",
    "    print(i)"
   ]
  },
  {
   "cell_type": "code",
   "execution_count": 65,
   "id": "0a035c2b",
   "metadata": {},
   "outputs": [],
   "source": [
    "# ALTER TABLE `myDB2`.`Transaccio` DROP INDEX `Trans_pk_UNIQUE`, ADD INDEX `Trans_pk_UNIQUE` (`client_fk`, `establiment_fk`, `treballador_fk`) USING BTREE;\n",
    "myDDBB.execute(\"\"\"ALTER TABLE `myDB2`.`Transaccio` DROP INDEX `Trans_pk_UNIQUE`, ADD INDEX `Trans_pk_UNIQUE` (`client_fk`, `establiment_fk`, `treballador_fk`) USING BTREE\"\"\")\n",
    "db.commit()"
   ]
  },
  {
   "cell_type": "code",
   "execution_count": 66,
   "id": "847a3f38",
   "metadata": {},
   "outputs": [
    {
     "data": {
      "text/plain": [
       "[['Stephanie', 'Hunter'],\n",
       " ['Chandra', 'Evans'],\n",
       " ['Tiffani', 'Davidson'],\n",
       " ['Ann', 'Roy'],\n",
       " ['Georgina', 'Blanks'],\n",
       " ['Mary', 'Thai'],\n",
       " ['Monica', 'Dalessandro'],\n",
       " ['William', 'Fry'],\n",
       " ['Buck', 'Guerrero'],\n",
       " ['Richard', 'Goode']]"
      ]
     },
     "execution_count": 66,
     "metadata": {},
     "output_type": "execute_result"
    }
   ],
   "source": [
    "# Omplim les taules de dades\n",
    "import names\n",
    "# Generate 10 random names for clients\n",
    "clients = []\n",
    "for i in range(10):\n",
    "    clients.append([names.get_first_name(),names.get_last_name()])\n",
    "\n",
    "\n",
    "clients"
   ]
  },
  {
   "cell_type": "code",
   "execution_count": 67,
   "id": "0e096665",
   "metadata": {},
   "outputs": [
    {
     "data": {
      "text/plain": [
       "'Stephanie'"
      ]
     },
     "execution_count": 67,
     "metadata": {},
     "output_type": "execute_result"
    }
   ],
   "source": [
    "clients[0][0]"
   ]
  },
  {
   "cell_type": "code",
   "execution_count": 68,
   "id": "e0d7c381",
   "metadata": {},
   "outputs": [
    {
     "name": "stdout",
     "output_type": "stream",
     "text": [
      "1 record inserted.\n"
     ]
    }
   ],
   "source": [
    "# Basic CRUD operations: CREATE\n",
    "sql_insert_clients = \"INSERT INTO Client (Nom, Cognoms) VALUES (%s, %s)\"\n",
    "for i in range(0,9):\n",
    "    myDDBB.execute(sql_insert_clients, clients[i])\n",
    "db.commit()\n",
    "\n",
    "print(myDDBB.rowcount, \"record inserted.\")"
   ]
  },
  {
   "cell_type": "code",
   "execution_count": 69,
   "id": "8ae7fea9",
   "metadata": {},
   "outputs": [
    {
     "data": {
      "text/plain": [
       "[['Stephen', 'Gonzales'],\n",
       " ['Charles', 'Bentley'],\n",
       " ['Leola', 'Hartwig'],\n",
       " ['Danny', 'York'],\n",
       " ['Kevin', 'Bosarge'],\n",
       " ['William', 'Jones'],\n",
       " ['Fred', 'Hanan'],\n",
       " ['Michael', 'Hegwood'],\n",
       " ['Jesus', 'Powell'],\n",
       " ['Ronald', 'Medlin']]"
      ]
     },
     "execution_count": 69,
     "metadata": {},
     "output_type": "execute_result"
    }
   ],
   "source": [
    "# Generate 10 random names for employees\n",
    "treballadors = []\n",
    "for i in range(10):\n",
    "    treballadors.append([names.get_first_name(),names.get_last_name()])\n",
    "treballadors"
   ]
  },
  {
   "cell_type": "code",
   "execution_count": 70,
   "id": "26681e9a",
   "metadata": {},
   "outputs": [
    {
     "name": "stdout",
     "output_type": "stream",
     "text": [
      "1 record inserted.\n"
     ]
    }
   ],
   "source": [
    "sql_insert_treballadors = \"INSERT INTO Treballador (Nom, Cognoms) VALUES (%s, %s)\"\n",
    "for i in range(0,9):\n",
    "    myDDBB.execute(sql_insert_treballadors, treballadors[i])\n",
    "db.commit()\n",
    "\n",
    "print(myDDBB.rowcount, \"record inserted.\")"
   ]
  },
  {
   "cell_type": "code",
   "execution_count": 71,
   "id": "4f806020",
   "metadata": {},
   "outputs": [],
   "source": [
    "# Rest of mandatory data\n",
    "sql_insert_establiment = \"INSERT INTO Establiment (nom, localitzacio, superficie) VALUES (%s, %s, %s)\"\n",
    "myDDBB.execute(sql_insert_establiment, ['Coffee Delight','Sunnyvale','400'])\n",
    "db.commit()"
   ]
  },
  {
   "cell_type": "code",
   "execution_count": 72,
   "id": "ac796582",
   "metadata": {},
   "outputs": [],
   "source": [
    "sql_insert_prod = \"INSERT INTO Producte (tipus_fk, descripcio,Preu) VALUES (%s, %s, %s)\"\n",
    "myDDBB.execute(sql_insert_prod, ['1','Cafe Sol',round(uniform(1.50,12.50),2)])\n",
    "myDDBB.execute(sql_insert_prod, ['1','Capuccino',round(uniform(1.50,12.50),2)])\n",
    "myDDBB.execute(sql_insert_prod, ['2','Choco Cookie',round(uniform(1.50,12.50),2)])\n",
    "myDDBB.execute(sql_insert_prod, ['2','Vanilla Cookie',round(uniform(1.50,12.50),2)])\n",
    "myDDBB.execute(sql_insert_prod, ['2','Choco Cookie',round(uniform(1.50,12.50),2)])\n",
    "myDDBB.execute(sql_insert_prod, ['3','Veggie Sandwitch',round(uniform(1.50,12.50),2)])\n",
    "myDDBB.execute(sql_insert_prod, ['3','Keto Sandwitch',round(uniform(1.50,12.50),2)])\n",
    "db.commit()"
   ]
  },
  {
   "cell_type": "code",
   "execution_count": 73,
   "id": "200591b3",
   "metadata": {},
   "outputs": [],
   "source": [
    "sql_insert_tipus_prod = \"INSERT INTO Tipus_Producte (desc_tipus) VALUES (%s)\"\n",
    "myDDBB.execute(sql_insert_tipus_prod, ['Coffee'])\n",
    "myDDBB.execute(sql_insert_tipus_prod, ['Cookie'])\n",
    "myDDBB.execute(sql_insert_tipus_prod, ['Sandwitch'])\n",
    "db.commit()"
   ]
  },
  {
   "cell_type": "code",
   "execution_count": 74,
   "id": "e1198067",
   "metadata": {},
   "outputs": [
    {
     "name": "stdout",
     "output_type": "stream",
     "text": [
      "(1, 1, 'Cafe Sol', '4.56')\n",
      "(2, 1, 'Capuccino', '1.96')\n",
      "(3, 2, 'Choco Cookie', '3.64')\n",
      "(4, 2, 'Vanilla Cookie', '10.67')\n",
      "(5, 2, 'Choco Cookie', '7.86')\n",
      "(6, 3, 'Veggie Sandwitch', '4.51')\n",
      "(7, 3, 'Keto Sandwitch', '12.35')\n"
     ]
    }
   ],
   "source": [
    "# Basic CRUD operations: READ\n",
    "sql_Select_all_prod = \"SELECT * FROM Producte\"\n",
    "myDDBB.execute(sql_Select_all_prod)\n",
    "myresult = myDDBB.fetchall()\n",
    "for i in myresult:\n",
    "    print(i)"
   ]
  },
  {
   "cell_type": "code",
   "execution_count": 75,
   "id": "629a9b6e",
   "metadata": {},
   "outputs": [],
   "source": [
    "# basic CRUD operations: UPDATE\n",
    "# UPDATE Treballador SET  Treballador.establiment_fk = '2' WHERE Treballador.treballador_pk = 1\n",
    "# Afegim un treballador a la nomina del establiment\n",
    "sql_update_worker = \"UPDATE Treballador SET Treballador.establiment_fk = '1' WHERE Treballador.Nom = (%s) AND Treballador.Cognoms = (%s)\"\n",
    "myDDBB.execute(sql_update_worker, ['Stephen','Gonzales'])\n",
    "db.commit()"
   ]
  },
  {
   "cell_type": "code",
   "execution_count": 76,
   "id": "3947cffb",
   "metadata": {},
   "outputs": [
    {
     "name": "stdout",
     "output_type": "stream",
     "text": [
      "[(1, 'Stephen', 'Gonzales', 1)]\n"
     ]
    }
   ],
   "source": [
    "find_worker = \"SELECT * FROM Treballador WHERE Nom = (%s) AND Cognoms = (%s)\"\n",
    "myDDBB.execute(find_worker, ['Stephen','Gonzales'])\n",
    "myresult = myDDBB.fetchall()\n",
    "print(myresult)"
   ]
  },
  {
   "cell_type": "code",
   "execution_count": 77,
   "id": "f95f4763",
   "metadata": {},
   "outputs": [],
   "source": [
    "# Basic CRUD operations: DELETE\n",
    "delete_worker = \"DELETE FROM Treballador WHERE Treballador.Nom = (%s) AND Treballador.Cognoms = (%s)\"\n",
    "myDDBB.execute(delete_worker, ['Richard','Goode'])\n",
    "db.commit()"
   ]
  },
  {
   "cell_type": "code",
   "execution_count": 78,
   "id": "1afbde6a",
   "metadata": {},
   "outputs": [
    {
     "name": "stdout",
     "output_type": "stream",
     "text": [
      "[]\n"
     ]
    }
   ],
   "source": [
    "# Check succesfull deletion\n",
    "find_worker = \"SELECT * FROM Treballador WHERE Nom = (%s) AND Cognoms = (%s)\"\n",
    "myDDBB.execute(find_worker, ['Steve','Gatson'])\n",
    "myresult = myDDBB.fetchall()\n",
    "print(myresult)"
   ]
  },
  {
   "cell_type": "code",
   "execution_count": 79,
   "id": "60f4c0b2",
   "metadata": {},
   "outputs": [],
   "source": [
    "# Funció per grabar una transacció de un producte\n",
    "# (la BBDD permet multiples productes per transacció però fem l'exemple a 1:1)\n",
    "def mytrans (cli,treb,estab,prod,qty):\n",
    "    # Create Master\n",
    "    sql_insert_trans = \"INSERT INTO Transaccio (client_fk, treballador_fk, establiment_fk) VALUES (%s, %s, %s)\"\n",
    "    myDDBB.execute(sql_insert_trans, [cli,treb,estab])\n",
    "    # get trans_pk\n",
    "    myDDBB.execute('SELECT LAST_INSERT_ID()')\n",
    "    lastID = myDDBB.fetchone()\n",
    "    print(lastID[0])\n",
    "    db.commit()\n",
    "    # Create Detail\n",
    "    sql_insert_trans_det = \"INSERT INTO Transaccio_Detail (trans_fk, product_fk, Qty) VALUES (%s, %s, %s)\"\n",
    "    myDDBB.execute(sql_insert_trans_det, [lastID[0],prod,qty])\n",
    "    db.commit()\n",
    "    # Actualitzar total\n",
    "    sql_update_total = \"UPDATE Transaccio_Detail SET total_detail = Qty * (SELECT Preu FROM Producte WHERE product_pk = Transaccio_Detail.product_fk) WHERE trans_fk = (%s)\"\n",
    "    myDDBB.execute(sql_update_total, [lastID[0]])\n",
    "    db.commit()"
   ]
  },
  {
   "cell_type": "code",
   "execution_count": 80,
   "id": "cf395e94",
   "metadata": {},
   "outputs": [
    {
     "name": "stdout",
     "output_type": "stream",
     "text": [
      "1\n",
      "2\n",
      "3\n",
      "4\n",
      "5\n",
      "6\n",
      "7\n",
      "8\n",
      "9\n"
     ]
    }
   ],
   "source": [
    "# Creem 10 transaccions\n",
    "for i in range (1,10):\n",
    "    # Params: IDClient, IDTreballador, IDEstabliment, IDProducte, Quantitat\n",
    "    mytrans(randint(1,9),1,1,randint(1,7),randint(1,4))"
   ]
  },
  {
   "cell_type": "code",
   "execution_count": 87,
   "id": "624220b5",
   "metadata": {},
   "outputs": [
    {
     "name": "stdout",
     "output_type": "stream",
     "text": [
      "[(1, 1, 1, 1, None), (5, 1, 1, 2, None), (9, 1, 1, 3, None), (3, 1, 1, 4, None), (4, 1, 1, 5, None), (9, 1, 1, 6, None), (9, 1, 1, 7, None), (1, 1, 1, 8, None), (3, 1, 1, 9, None)]\n"
     ]
    }
   ],
   "source": [
    "# Veiem les transaccions en curs sense facturar\n",
    "sql_all_trans = \"SELECT * FROM Transaccio WHERE total_trans IS NULL\"\n",
    "myDDBB.execute(sql_all_trans)\n",
    "myresult = myDDBB.fetchall()\n",
    "print(myresult)"
   ]
  },
  {
   "cell_type": "code",
   "execution_count": 88,
   "id": "b0396abf",
   "metadata": {},
   "outputs": [],
   "source": [
    "# Facturar totals\n",
    "def facturar(idtrans):\n",
    "    # Actualitzar total transacció\n",
    "    sql_fact_total = \"UPDATE Transaccio SET total_trans = (SELECT SUM(total_detail) FROM Transaccio_Detail WHERE trans_fk = (%s)) WHERE trans_pk = (%s)\"\n",
    "    myDDBB.execute(sql_fact_total, [idtrans,idtrans])\n",
    "    db.commit()\n",
    "    # obtenir nom client\n",
    "    sql_get_nom_cli = \"SELECT Nom, Cognoms FROM Client WHERE client_pk = (SELECT client_fk FROM Transaccio WHERE trans_pk = (%s))\"\n",
    "    myDDBB.execute(sql_get_nom_cli, [idtrans])\n",
    "    myclient = myDDBB.fetchall()\n",
    "    # obtenir total\n",
    "    sql_get_total = \"SELECT total_trans FROM Transaccio WHERE trans_pk = (%s)\"\n",
    "    myDDBB.execute(sql_get_total, [idtrans])\n",
    "    mytotal = myDDBB.fetchall()\n",
    "    return (f\"El client {myclient[0][0]} {myclient[0][1]} ha de pagar: {mytotal[0][0]}€.\")"
   ]
  },
  {
   "cell_type": "code",
   "execution_count": 89,
   "id": "f608cb3b",
   "metadata": {},
   "outputs": [
    {
     "name": "stdout",
     "output_type": "stream",
     "text": [
      "El client Tiffani Davidson ha de pagar: 6€.\n"
     ]
    }
   ],
   "source": [
    "print (facturar(9))"
   ]
  },
  {
   "cell_type": "code",
   "execution_count": 90,
   "id": "a7374c05",
   "metadata": {},
   "outputs": [],
   "source": [
    "# facturem tot\n",
    "for i in range (1,10):\n",
    "    facturar(i)"
   ]
  },
  {
   "cell_type": "code",
   "execution_count": 91,
   "id": "04531a6e",
   "metadata": {},
   "outputs": [
    {
     "name": "stdout",
     "output_type": "stream",
     "text": [
      "[('4.56',)]\n"
     ]
    }
   ],
   "source": [
    "# tests\n",
    "sql_select_price = \"SELECT Preu FROM Producte WHERE product_pk = (%s)\"\n",
    "myDDBB.execute(sql_select_price,[1])\n",
    "myresult = myDDBB.fetchall()\n",
    "print(myresult)"
   ]
  },
  {
   "cell_type": "code",
   "execution_count": 92,
   "id": "1e643fe5",
   "metadata": {},
   "outputs": [
    {
     "name": "stdout",
     "output_type": "stream",
     "text": [
      "(1, 1, 1, 1, 4)\n",
      "(5, 1, 1, 2, 16)\n",
      "(9, 1, 1, 3, 11)\n",
      "(3, 1, 1, 4, 14)\n",
      "(4, 1, 1, 5, 31)\n",
      "(9, 1, 1, 6, 12)\n",
      "(9, 1, 1, 7, 5)\n",
      "(1, 1, 1, 8, 5)\n",
      "(3, 1, 1, 9, 6)\n"
     ]
    }
   ],
   "source": [
    "sql_Select_all_trans = \"SELECT * FROM Transaccio\"\n",
    "myDDBB.execute(sql_Select_all_trans)\n",
    "myresult = myDDBB.fetchall()\n",
    "for i in myresult:\n",
    "    print(i)"
   ]
  },
  {
   "cell_type": "markdown",
   "id": "b2f809b9",
   "metadata": {},
   "source": [
    "Nivell 2 - Exercici 2\n",
    "Mostra que pots carregar algunes consultes senzilles a un Pandas Dataframe."
   ]
  },
  {
   "cell_type": "code",
   "execution_count": 93,
   "id": "2176ba83",
   "metadata": {},
   "outputs": [],
   "source": [
    "# fem un dataframe de les transaccions\n",
    "try:\n",
    "    db = mysql.connector.connect(host=\"localhost\", database = 'myDB2',user=\"eloi\", passwd=\"eloi\",use_pure=True)\n",
    "    query = \"SELECT * FROM Transaccio;\"\n",
    "    trans_df = pd.read_sql(query,db)\n",
    "except Exception as e:\n",
    "    db.close()\n",
    "    print(str(e))"
   ]
  },
  {
   "cell_type": "code",
   "execution_count": 94,
   "id": "033c01b6",
   "metadata": {},
   "outputs": [
    {
     "data": {
      "text/html": [
       "<div>\n",
       "<style scoped>\n",
       "    .dataframe tbody tr th:only-of-type {\n",
       "        vertical-align: middle;\n",
       "    }\n",
       "\n",
       "    .dataframe tbody tr th {\n",
       "        vertical-align: top;\n",
       "    }\n",
       "\n",
       "    .dataframe thead th {\n",
       "        text-align: right;\n",
       "    }\n",
       "</style>\n",
       "<table border=\"1\" class=\"dataframe\">\n",
       "  <thead>\n",
       "    <tr style=\"text-align: right;\">\n",
       "      <th></th>\n",
       "      <th>client_fk</th>\n",
       "      <th>establiment_fk</th>\n",
       "      <th>treballador_fk</th>\n",
       "      <th>trans_pk</th>\n",
       "      <th>total_trans</th>\n",
       "    </tr>\n",
       "  </thead>\n",
       "  <tbody>\n",
       "    <tr>\n",
       "      <th>0</th>\n",
       "      <td>1</td>\n",
       "      <td>1</td>\n",
       "      <td>1</td>\n",
       "      <td>1</td>\n",
       "      <td>4</td>\n",
       "    </tr>\n",
       "    <tr>\n",
       "      <th>1</th>\n",
       "      <td>5</td>\n",
       "      <td>1</td>\n",
       "      <td>1</td>\n",
       "      <td>2</td>\n",
       "      <td>16</td>\n",
       "    </tr>\n",
       "    <tr>\n",
       "      <th>2</th>\n",
       "      <td>9</td>\n",
       "      <td>1</td>\n",
       "      <td>1</td>\n",
       "      <td>3</td>\n",
       "      <td>11</td>\n",
       "    </tr>\n",
       "    <tr>\n",
       "      <th>3</th>\n",
       "      <td>3</td>\n",
       "      <td>1</td>\n",
       "      <td>1</td>\n",
       "      <td>4</td>\n",
       "      <td>14</td>\n",
       "    </tr>\n",
       "    <tr>\n",
       "      <th>4</th>\n",
       "      <td>4</td>\n",
       "      <td>1</td>\n",
       "      <td>1</td>\n",
       "      <td>5</td>\n",
       "      <td>31</td>\n",
       "    </tr>\n",
       "  </tbody>\n",
       "</table>\n",
       "</div>"
      ],
      "text/plain": [
       "   client_fk  establiment_fk  treballador_fk  trans_pk  total_trans\n",
       "0          1               1               1         1            4\n",
       "1          5               1               1         2           16\n",
       "2          9               1               1         3           11\n",
       "3          3               1               1         4           14\n",
       "4          4               1               1         5           31"
      ]
     },
     "execution_count": 94,
     "metadata": {},
     "output_type": "execute_result"
    }
   ],
   "source": [
    "trans_df.head()"
   ]
  },
  {
   "cell_type": "markdown",
   "id": "d1ee0aa3",
   "metadata": {},
   "source": [
    "Nivell - Exercici 3\n",
    "Genera algun gràfic que resumeixi les dades. "
   ]
  },
  {
   "cell_type": "code",
   "execution_count": 95,
   "id": "1983cf9b",
   "metadata": {},
   "outputs": [
    {
     "data": {
      "text/plain": [
       "client_fk         int64\n",
       "establiment_fk    int64\n",
       "treballador_fk    int64\n",
       "trans_pk          int64\n",
       "total_trans       int64\n",
       "dtype: object"
      ]
     },
     "execution_count": 95,
     "metadata": {},
     "output_type": "execute_result"
    }
   ],
   "source": [
    "trans_df.dtypes"
   ]
  },
  {
   "cell_type": "code",
   "execution_count": 96,
   "id": "01c5be00",
   "metadata": {},
   "outputs": [
    {
     "data": {
      "image/png": "[encoded data removed]",
      "text/plain": [
       "<Figure size 432x288 with 1 Axes>"
      ]
     },
     "metadata": {
      "needs_background": "light"
     },
     "output_type": "display_data"
    }
   ],
   "source": [
    "sns.regplot(data=trans_df, x='client_fk', y = 'total_trans')\n",
    "plt.show()"
   ]
  },
  {
   "cell_type": "code",
   "execution_count": null,
   "id": "c4911402",
   "metadata": {},
   "outputs": [],
   "source": []
  }
 ],
 "metadata": {
  "kernelspec": {
   "display_name": "Python 3",
   "language": "python",
   "name": "python3"
  },
  "language_info": {
   "codemirror_mode": {
    "name": "ipython",
    "version": 3
   },
   "file_extension": ".py",
   "mimetype": "text/x-python",
   "name": "python",
   "nbconvert_exporter": "python",
   "pygments_lexer": "ipython3",
   "version": "3.8.8"
  },
  "toc": {
   "base_numbering": 1,
   "nav_menu": {},
   "number_sections": true,
   "sideBar": true,
   "skip_h1_title": false,
   "title_cell": "Table of Contents",
   "title_sidebar": "Contents",
   "toc_cell": false,
   "toc_position": {},
   "toc_section_display": true,
   "toc_window_display": false
  }
 },
 "nbformat": 4,
 "nbformat_minor": 5
}
